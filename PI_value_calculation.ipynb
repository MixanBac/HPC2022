{
  "nbformat": 4,
  "nbformat_minor": 0,
  "metadata": {
    "colab": {
      "provenance": [],
      "authorship_tag": "ABX9TyOA75VTzSUvpXaTwdYgrqbZ",
      "include_colab_link": true
    },
    "kernelspec": {
      "name": "python3",
      "display_name": "Python 3"
    },
    "language_info": {
      "name": "python"
    },
    "accelerator": "GPU",
    "gpuClass": "standard"
  },
  "cells": [
    {
      "cell_type": "markdown",
      "metadata": {
        "id": "view-in-github",
        "colab_type": "text"
      },
      "source": [
        "<a href=\"https://colab.research.google.com/github/MixanBac/HPC2022/blob/main/PI_value_calculation.ipynb\" target=\"_parent\"><img src=\"https://colab.research.google.com/assets/colab-badge.svg\" alt=\"Open In Colab\"/></a>"
      ]
    },
    {
      "cell_type": "code",
      "execution_count": 1,
      "metadata": {
        "colab": {
          "base_uri": "https://localhost:8080/"
        },
        "id": "ls4XdtZn0iLQ",
        "outputId": "f37e9a22-3aaa-4a21-dbc2-54921296e75b"
      },
      "outputs": [
        {
          "output_type": "stream",
          "name": "stdout",
          "text": [
            "nvcc: NVIDIA (R) Cuda compiler driver\n",
            "Copyright (c) 2005-2021 NVIDIA Corporation\n",
            "Built on Sun_Feb_14_21:12:58_PST_2021\n",
            "Cuda compilation tools, release 11.2, V11.2.152\n",
            "Build cuda_11.2.r11.2/compiler.29618528_0\n"
          ]
        }
      ],
      "source": [
        "!nvcc --version"
      ]
    },
    {
      "cell_type": "code",
      "source": [
        "!pip install git+https://github.com/andreinechaev/nvcc4jupyter.git"
      ],
      "metadata": {
        "colab": {
          "base_uri": "https://localhost:8080/"
        },
        "id": "ykbzHd8w0wwc",
        "outputId": "46de73ba-4731-499c-9682-d9b6a481c0a0"
      },
      "execution_count": 2,
      "outputs": [
        {
          "output_type": "stream",
          "name": "stdout",
          "text": [
            "Looking in indexes: https://pypi.org/simple, https://us-python.pkg.dev/colab-wheels/public/simple/\n",
            "Collecting git+https://github.com/andreinechaev/nvcc4jupyter.git\n",
            "  Cloning https://github.com/andreinechaev/nvcc4jupyter.git to /tmp/pip-req-build-1r4r63ik\n",
            "  Running command git clone -q https://github.com/andreinechaev/nvcc4jupyter.git /tmp/pip-req-build-1r4r63ik\n",
            "Building wheels for collected packages: NVCCPlugin\n",
            "  Building wheel for NVCCPlugin (setup.py) ... \u001b[?25l\u001b[?25hdone\n",
            "  Created wheel for NVCCPlugin: filename=NVCCPlugin-0.0.2-py3-none-any.whl size=4307 sha256=4226456244434174631351dae6356460f741b9f87662448612186b52dfff6f7d\n",
            "  Stored in directory: /tmp/pip-ephem-wheel-cache-3x78304l/wheels/ca/33/8d/3c86eb85e97d2b6169d95c6e8f2c297fdec60db6e84cb56f5e\n",
            "Successfully built NVCCPlugin\n",
            "Installing collected packages: NVCCPlugin\n",
            "Successfully installed NVCCPlugin-0.0.2\n"
          ]
        }
      ]
    },
    {
      "cell_type": "code",
      "source": [
        "%load_ext nvcc_plugin"
      ],
      "metadata": {
        "colab": {
          "base_uri": "https://localhost:8080/"
        },
        "id": "rq9_Bbdi00IT",
        "outputId": "044203b6-8735-4361-e0d8-fe060225a678"
      },
      "execution_count": 3,
      "outputs": [
        {
          "output_type": "stream",
          "name": "stdout",
          "text": [
            "created output directory at /content/src\n",
            "Out bin /content/result.out\n"
          ]
        }
      ]
    },
    {
      "cell_type": "code",
      "source": [
        "!   nvidia-smi"
      ],
      "metadata": {
        "colab": {
          "base_uri": "https://localhost:8080/"
        },
        "id": "vkwVTQhW05SP",
        "outputId": "a5b1d40b-0b60-46a2-93ff-e6e0a35392eb"
      },
      "execution_count": 4,
      "outputs": [
        {
          "output_type": "stream",
          "name": "stdout",
          "text": [
            "Thu Nov 17 13:42:28 2022       \n",
            "+-----------------------------------------------------------------------------+\n",
            "| NVIDIA-SMI 460.32.03    Driver Version: 460.32.03    CUDA Version: 11.2     |\n",
            "|-------------------------------+----------------------+----------------------+\n",
            "| GPU  Name        Persistence-M| Bus-Id        Disp.A | Volatile Uncorr. ECC |\n",
            "| Fan  Temp  Perf  Pwr:Usage/Cap|         Memory-Usage | GPU-Util  Compute M. |\n",
            "|                               |                      |               MIG M. |\n",
            "|===============================+======================+======================|\n",
            "|   0  Tesla T4            Off  | 00000000:00:04.0 Off |                    0 |\n",
            "| N/A   59C    P8    10W /  70W |      0MiB / 15109MiB |      0%      Default |\n",
            "|                               |                      |                  N/A |\n",
            "+-------------------------------+----------------------+----------------------+\n",
            "                                                                               \n",
            "+-----------------------------------------------------------------------------+\n",
            "| Processes:                                                                  |\n",
            "|  GPU   GI   CI        PID   Type   Process name                  GPU Memory |\n",
            "|        ID   ID                                                   Usage      |\n",
            "|=============================================================================|\n",
            "|  No running processes found                                                 |\n",
            "+-----------------------------------------------------------------------------+\n"
          ]
        }
      ]
    },
    {
      "cell_type": "markdown",
      "source": [
        "Как мы видим, Google Colab использует видеокарту Nvidia Tesla T4"
      ],
      "metadata": {
        "id": "xwtYlXRS080P"
      }
    },
    {
      "cell_type": "code",
      "source": [
        "%%cu\n",
        "#include \"cuda_runtime.h\"\n",
        "#include \"device_launch_parameters.h\"\n",
        "\n",
        "#include <iostream>\n",
        "#include <stdio.h>\n",
        "#include <ctime>\n",
        "#include <vector>\n",
        "\n",
        "\n",
        "using namespace std;\n",
        "\n",
        "clock_t c_start, c_end;\n",
        "int n = 1024 * 1024 * 32; // Количество точек\n",
        "\n",
        "__global__ void count_pi(float* dev_randX, float* dev_randY, int* dev_threads_num, int n) {   // Ядро, на котором вычисления выполняются параллельно на большом числе нитей\n",
        "\tint tid = threadIdx.x + blockIdx.x * blockDim.x;                                            // Глобальный индекс нити\n",
        "\n",
        "\tint cont = 0;\n",
        "\tfor (int i = tid * 128; i < 128 * (tid + 1); i++) {\n",
        "\t\tif (dev_randX[i] * dev_randX[i] + dev_randY[i] * dev_randY[i] < 1.0f) { // Условие нахождения точки внутри единичной окружности\n",
        "\t\t\tcont++;\n",
        "\t\t}\n",
        "\t}\n",
        "\tdev_threads_num[tid] = cont;\n",
        "}\n",
        "\n",
        "int main() {\n",
        "\n",
        "\tvector<float> randX(n);                   // Инициализация координаты X\n",
        "\tvector<float> randY(n);                   // Инициализация координаты Y\n",
        "\n",
        "\tsrand((unsigned)time(NULL));              // Функция srand выполняет инициализацию генератора случайных чисел rand\n",
        "\tfor (int i = 0; i < n; i++) {\n",
        "\t\trandX[i] = float(rand()) / RAND_MAX;    // Генерация координаты X(делим на RAND_MAX, чтобы числа были от 0 до 1)\n",
        "\t\trandY[i] = float(rand()) / RAND_MAX;    // Генерация координаты Y\n",
        "\t}\n",
        "\n",
        "\tc_start = clock();                        // Начало подсчета времени\n",
        "\tint c_count = 0;                          // Переменная хранящая в себе количество точек, находящихся внутри единичной окружности\n",
        "\n",
        "\tfor (int i = 0; i < n; i++) {\n",
        "\t\tif (randX[i] * randX[i] + randY[i] * randY[i] < 1.0f) { // Условие нахождения точки внутри единичной окружности\n",
        "\t\t\tc_count++;                                            // При выполнении условия - засчитываем данную точку как находящуюся внутри единичной окружности\n",
        "\t\t}\n",
        "\t}\n",
        "\tc_end = clock();                                         // Конец подсчета времени\n",
        "\tfloat t_cpu = (float)(c_end - c_start) / CLOCKS_PER_SEC; // Разделив общее количество тиков на число тиков в секунду мы получаем количество секунд\n",
        "\tfloat c_num = float(c_count) * 4.0 / n;                  // Подсчет числа PI\n",
        "\tcout << \"CPU Time\" << endl;                              // Выводы\n",
        "\tcout << \"PI_value = \" << c_num << endl;\n",
        "\tcout << \"time= \" << t_cpu * 1000 << \" ms\" << endl;\n",
        "\n",
        "\tcudaEvent_t start, stop;\n",
        "\tcudaEventCreate(&start);     // Создание событий\n",
        "\tcudaEventCreate(&stop);\n",
        "\tcudaEventRecord(start, 0);   // Запись события\n",
        "\n",
        "\tsize_t size = n * sizeof(float);\n",
        "\tfloat* dev_randX;\n",
        "\tfloat* dev_randY;\n",
        "\tcudaMalloc((void**)&dev_randX, size);     // Выделение памяти на GPU\n",
        "\tcudaMalloc((void**)&dev_randY, size);\n",
        "\n",
        "\tcudaMemcpy(dev_randX, &randX.front(), size, cudaMemcpyHostToDevice); // Копирование данных между хостом и устройством\n",
        "\tcudaMemcpy(dev_randY, &randY.front(), size, cudaMemcpyHostToDevice);\n",
        "\n",
        "\tint threadsPerBlock = 512;                                           // Задание конфигурации запуска нитей\n",
        "\tint block_num = n / (128 * threadsPerBlock);\n",
        "\tint* dev_threads_num;\n",
        "\tcudaMalloc((void**)&dev_threads_num, n / 128 * sizeof(int));         // Выделение памяти на GPU\n",
        "\n",
        "\tcount_pi << <block_num, threadsPerBlock >> > (dev_randX, dev_randY, dev_threads_num, n);  // Запуск ядра\n",
        "\n",
        "\tint* threads_num = new int[n / 128];\n",
        "\tcudaMemcpy(threads_num, dev_threads_num, n / 128 * sizeof(int), cudaMemcpyDeviceToHost);  // Копирование данных между устройством и хостом\n",
        "\n",
        "\tint g_count = 0;\n",
        "\tfor (int i = 0; i < n / 128; i++) {\n",
        "\t\tg_count += threads_num[i];                // Посчет числа точек внутри единичной окружности\n",
        "\t};\n",
        "\n",
        "\tcudaEventRecord(stop, 0);   //Запись события\n",
        "\tcudaEventSynchronize(stop);\n",
        "\tfloat t_gpu;\n",
        "\tcudaEventElapsedTime(&t_gpu, start, stop);  // Вычисляет время, прошедшее между событиями\n",
        "\tcudaEventDestroy(start);                    // Уничтожает объект события\n",
        "\tcudaEventDestroy(stop);                     // Уничтожает объект события\n",
        "\n",
        "\tfloat g_num = float(g_count) * 4.0 / n; // Подсчет числа PI после расчета на GPU\n",
        "\tcout << \"GPU Time\" << endl;             // Выводы\n",
        "  cout << \"PI_value = \" << g_num << endl;\n",
        "\tcout << \"time = \" << t_gpu << \" ms\" << endl;\n",
        "}"
      ],
      "metadata": {
        "colab": {
          "base_uri": "https://localhost:8080/"
        },
        "id": "aYN-P6-v0_FA",
        "outputId": "598a1444-1089-45ff-81da-0ab327011ac5"
      },
      "execution_count": 10,
      "outputs": [
        {
          "output_type": "stream",
          "name": "stdout",
          "text": [
            "CPU Time\n",
            "PI_value = 3.14168\n",
            "time= 520.823 ms\n",
            "GPU Time\n",
            "PI_value = 3.14168\n",
            "time = 70.8668 ms\n",
            "\n"
          ]
        }
      ]
    },
    {
      "cell_type": "markdown",
      "source": [
        "Мы можем наблюдать, что вычисления на GPU происходят быстрее, чего и следовало ожидать."
      ],
      "metadata": {
        "id": "VEyxdAxFFNWX"
      }
    }
  ]
}