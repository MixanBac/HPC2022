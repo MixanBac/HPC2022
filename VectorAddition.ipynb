{
  "nbformat": 4,
  "nbformat_minor": 0,
  "metadata": {
    "colab": {
      "provenance": []
    },
    "kernelspec": {
      "name": "python3",
      "display_name": "Python 3"
    },
    "language_info": {
      "name": "python"
    },
    "accelerator": "GPU"
  },
  "cells": [
    {
      "cell_type": "code",
      "execution_count": 5,
      "metadata": {
        "colab": {
          "base_uri": "https://localhost:8080/"
        },
        "id": "ZWxuqhC5o8xG",
        "outputId": "d635d5e8-3f15-4952-cbb9-eea00862cc85"
      },
      "outputs": [
        {
          "output_type": "stream",
          "name": "stdout",
          "text": [
            "nvcc: NVIDIA (R) Cuda compiler driver\n",
            "Copyright (c) 2005-2021 NVIDIA Corporation\n",
            "Built on Sun_Feb_14_21:12:58_PST_2021\n",
            "Cuda compilation tools, release 11.2, V11.2.152\n",
            "Build cuda_11.2.r11.2/compiler.29618528_0\n"
          ]
        }
      ],
      "source": [
        "!nvcc --version"
      ]
    },
    {
      "cell_type": "code",
      "source": [
        "!pip install git+https://github.com/andreinechaev/nvcc4jupyter.git"
      ],
      "metadata": {
        "colab": {
          "base_uri": "https://localhost:8080/"
        },
        "id": "WS7_PLfYpTp0",
        "outputId": "a0bb60fb-6569-4147-9ef1-b21adf4ff89a"
      },
      "execution_count": 6,
      "outputs": [
        {
          "output_type": "stream",
          "name": "stdout",
          "text": [
            "Looking in indexes: https://pypi.org/simple, https://us-python.pkg.dev/colab-wheels/public/simple/\n",
            "Collecting git+https://github.com/andreinechaev/nvcc4jupyter.git\n",
            "  Cloning https://github.com/andreinechaev/nvcc4jupyter.git to /tmp/pip-req-build-9wrilgta\n",
            "  Running command git clone -q https://github.com/andreinechaev/nvcc4jupyter.git /tmp/pip-req-build-9wrilgta\n",
            "Building wheels for collected packages: NVCCPlugin\n",
            "  Building wheel for NVCCPlugin (setup.py) ... \u001b[?25l\u001b[?25hdone\n",
            "  Created wheel for NVCCPlugin: filename=NVCCPlugin-0.0.2-py3-none-any.whl size=4306 sha256=b8f7c6fc35015d70aee05a3890c3e19e2f6fd8938f0418aaff4b46bf9224ad7a\n",
            "  Stored in directory: /tmp/pip-ephem-wheel-cache-1s3bkmrv/wheels/ca/33/8d/3c86eb85e97d2b6169d95c6e8f2c297fdec60db6e84cb56f5e\n",
            "Successfully built NVCCPlugin\n",
            "Installing collected packages: NVCCPlugin\n",
            "Successfully installed NVCCPlugin-0.0.2\n"
          ]
        }
      ]
    },
    {
      "cell_type": "code",
      "source": [
        "%load_ext nvcc_plugin"
      ],
      "metadata": {
        "colab": {
          "base_uri": "https://localhost:8080/"
        },
        "id": "TBb9wol9pXnb",
        "outputId": "d95b714e-b8f6-4fa8-b83b-9e35547f1ed9"
      },
      "execution_count": 7,
      "outputs": [
        {
          "output_type": "stream",
          "name": "stdout",
          "text": [
            "created output directory at /content/src\n",
            "Out bin /content/result.out\n"
          ]
        }
      ]
    },
    {
      "cell_type": "code",
      "source": [
        "!nvidia-smi"
      ],
      "metadata": {
        "colab": {
          "base_uri": "https://localhost:8080/"
        },
        "id": "sU4-Ivl0pZof",
        "outputId": "fd11d16a-6699-4393-934c-6e7c0a40cd35"
      },
      "execution_count": 8,
      "outputs": [
        {
          "output_type": "stream",
          "name": "stdout",
          "text": [
            "Mon Oct 17 19:00:15 2022       \n",
            "+-----------------------------------------------------------------------------+\n",
            "| NVIDIA-SMI 460.32.03    Driver Version: 460.32.03    CUDA Version: 11.2     |\n",
            "|-------------------------------+----------------------+----------------------+\n",
            "| GPU  Name        Persistence-M| Bus-Id        Disp.A | Volatile Uncorr. ECC |\n",
            "| Fan  Temp  Perf  Pwr:Usage/Cap|         Memory-Usage | GPU-Util  Compute M. |\n",
            "|                               |                      |               MIG M. |\n",
            "|===============================+======================+======================|\n",
            "|   0  Tesla T4            Off  | 00000000:00:04.0 Off |                    0 |\n",
            "| N/A   44C    P8    10W /  70W |      0MiB / 15109MiB |      0%      Default |\n",
            "|                               |                      |                  N/A |\n",
            "+-------------------------------+----------------------+----------------------+\n",
            "                                                                               \n",
            "+-----------------------------------------------------------------------------+\n",
            "| Processes:                                                                  |\n",
            "|  GPU   GI   CI        PID   Type   Process name                  GPU Memory |\n",
            "|        ID   ID                                                   Usage      |\n",
            "|=============================================================================|\n",
            "|  No running processes found                                                 |\n",
            "+-----------------------------------------------------------------------------+\n"
          ]
        }
      ]
    },
    {
      "cell_type": "code",
      "source": [
        "%%cu\n",
        "#include \"cuda_runtime.h\"\n",
        "#include \"device_launch_parameters.h\"\n",
        "#include <chrono>\n",
        "#include <time.h>\n",
        "#include <stdio.h>\n",
        "#include <stdlib.h>\n",
        "\n",
        "void reductionCudaImproved(float* result, const float* input, int SIZE);\n",
        "__global__ void reductionKernelImproved(float* result, const float* input, int SIZE);\n",
        "void reductionCPU(float* result, const float* input, int SIZE);\n",
        "\n",
        "#define TILE 32\n",
        "#define ILP 8\n",
        "#define BLOCK_X_IMPR (TILE / ILP)\n",
        "#define BLOCK_Y_IMPR 32\n",
        "#define BLOCK_COUNT_X_IMPR 100\n",
        "\n",
        "void reductionCPU(float* result, const float* input, int SIZE)\n",
        "{\n",
        "    for (int i = 0; i < SIZE; i++)\n",
        "        *result += input[i];\n",
        "}\n",
        "\n",
        "__global__ void reductionKernelImproved(float* result, const float* input, int SIZE)\n",
        "{\n",
        "    int i;\n",
        "    int col = (blockDim.x * blockIdx.x + threadIdx.x) * ILP;\n",
        "    int row = blockDim.y * blockIdx.y + threadIdx.y;\n",
        "    int index = row * blockDim.x * gridDim.x * ILP + col;\n",
        "    __shared__ float interResult;\n",
        "\n",
        "    if (threadIdx.x == 0 && threadIdx.y == 0)\n",
        "        interResult = 0.0;\n",
        "\n",
        "    __syncthreads();\n",
        "\n",
        "#pragma unroll \n",
        "    for (i = 0; i < ILP; i++)\n",
        "    {\n",
        "        if (index < SIZE)\n",
        "        {\n",
        "            atomicAdd(&interResult, input[index]);\n",
        "            index++;\n",
        "        }\n",
        "    }\n",
        "\n",
        "    __syncthreads();\n",
        "\n",
        "    if (threadIdx.x == 0 && threadIdx.y == 0)\n",
        "        atomicAdd(result, interResult);\n",
        "}\n",
        "\n",
        "void reductionCudaImproved(float* result, const float* input, int SIZE)\n",
        "{\n",
        "    dim3 dim_grid, dim_block;\n",
        "\n",
        "    float* dev_input = 0;\n",
        "    float* dev_result = 0;\n",
        "    cudaEvent_t start, stop;\n",
        "    float elapsed = 0;\n",
        "    double gpuBandwidth;\n",
        "\n",
        "    dim_block.x = BLOCK_X_IMPR;\n",
        "    dim_block.y = BLOCK_Y_IMPR;\n",
        "    dim_block.z = 1;\n",
        "\n",
        "    dim_grid.x = BLOCK_COUNT_X_IMPR;\n",
        "    dim_grid.y = (int)ceil((float)SIZE / (float)(TILE * dim_block.y * BLOCK_COUNT_X_IMPR));\n",
        "    dim_grid.z = 1;\n",
        "\n",
        "    cudaSetDevice(0);\n",
        "\n",
        "    cudaMalloc((void**)&dev_input, SIZE * sizeof(float));\n",
        "    cudaMalloc((void**)&dev_result, sizeof(float));\n",
        "    cudaMemcpy(dev_input, input, SIZE * sizeof(float), cudaMemcpyHostToDevice);\n",
        "    cudaMemcpy(dev_result, result, sizeof(float), cudaMemcpyHostToDevice);\n",
        "\n",
        "    cudaEventCreate(&start);\n",
        "    cudaEventCreate(&stop);\n",
        "\n",
        "    cudaEventRecord(start);\n",
        "    reductionKernelImproved << <dim_grid, dim_block >> > (dev_result, dev_input, SIZE);\n",
        "\n",
        "    cudaEventRecord(stop);\n",
        "    cudaEventSynchronize(stop);\n",
        "\n",
        "    cudaEventElapsedTime(&elapsed, start, stop);\n",
        "\n",
        "    printf(\"GPU Time (improved): %f ms\\n\", elapsed);\n",
        "\n",
        "    cudaDeviceSynchronize();\n",
        "\n",
        "    cudaMemcpy(result, dev_result, sizeof(float), cudaMemcpyDeviceToHost);\n",
        "\n",
        "    cudaFree(dev_input);\n",
        "    cudaFree(dev_result);\n",
        "\n",
        "    return;\n",
        "}\n",
        "\n",
        "int main()\n",
        "{\n",
        "    int i,j;\n",
        "    float* input;\n",
        "    float resultCPU, resultGPU;\n",
        "    double cpuTime, cpuBandwidth;\n",
        "    int SIZE;\n",
        "    int a[] = {100,1000,10000,100000,1000000};\n",
        "  for (j = 0; j < 5; ++j) {\n",
        "    SIZE = a[j];\n",
        "    printf(\"Size : %d \\n\", SIZE);\n",
        "    input = (float*)malloc(SIZE * sizeof(float));\n",
        "    resultCPU = 0.0;\n",
        "    resultGPU = 0.0;\n",
        "\n",
        "    auto start = std::chrono::high_resolution_clock::now();\n",
        "    auto end = std::chrono::high_resolution_clock::now();\n",
        "\n",
        "    for (i = 0; i < SIZE; i++)\n",
        "        input[i] = rand() % 10 - 5;\n",
        "\n",
        "    start = std::chrono::high_resolution_clock::now();\n",
        "    reductionCPU(&resultCPU, input, SIZE);\n",
        "    end = std::chrono::high_resolution_clock::now();\n",
        "\n",
        "    std::chrono::duration<double> diff = end - start;\n",
        "    cpuTime = (diff.count() * 10);\n",
        "    printf(\"CPU Time: %f ms\\n\", cpuTime);\n",
        "\n",
        "    reductionCudaImproved(&resultGPU, input, SIZE);\n",
        "  }\n",
        "    return 0;\n",
        " \n",
        "}"
      ],
      "metadata": {
        "colab": {
          "base_uri": "https://localhost:8080/"
        },
        "id": "RmrZQAOkpdfW",
        "outputId": "540148df-e29d-41bb-8d44-91097aac2a5a"
      },
      "execution_count": 15,
      "outputs": [
        {
          "output_type": "stream",
          "name": "stdout",
          "text": [
            "Size : 100 \n",
            "CPU Time: 0.000004 ms\n",
            "GPU Time (improved): 0.028704 ms\n",
            "Size : 1000 \n",
            "CPU Time: 0.000030 ms\n",
            "GPU Time (improved): 0.016192 ms\n",
            "Size : 10000 \n",
            "CPU Time: 0.000301 ms\n",
            "GPU Time (improved): 0.030656 ms\n",
            "Size : 100000 \n",
            "CPU Time: 0.002858 ms\n",
            "GPU Time (improved): 0.149504 ms\n",
            "Size : 1000000 \n",
            "CPU Time: 0.029780 ms\n",
            "GPU Time (improved): 0.817184 ms\n",
            "\n"
          ]
        }
      ]
    }
  ]
}